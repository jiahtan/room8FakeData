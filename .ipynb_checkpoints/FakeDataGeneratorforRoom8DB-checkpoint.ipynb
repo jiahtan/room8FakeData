{
 "cells": [
  {
   "cell_type": "code",
   "execution_count": 1,
   "metadata": {},
   "outputs": [],
   "source": [
    "import numpy as np\n",
    "import pandas as pd\n",
    "import sqlite3\n",
    "from lxml import html, etree\n",
    "import requests\n",
    "import pandas as pd\n",
    "import re\n",
    "from matplotlib import pyplot as plt\n",
    "import matplotlib\n",
    "\n",
    "plt.style.use('ggplot')\n",
    "%matplotlib inline\n",
    "matplotlib.rcParams['figure.figsize'] = (10,6)"
   ]
  },
  {
   "cell_type": "markdown",
   "metadata": {},
   "source": [
    "### Create tables for database"
   ]
  },
  {
   "cell_type": "code",
   "execution_count": 2,
   "metadata": {},
   "outputs": [],
   "source": [
    "def create_connection(db_file):\n",
    "    \"\"\" create a database connection to the SQLite database\n",
    "        specified by db_file\n",
    "    :param db_file: database file\n",
    "    :return: Connection object or None\n",
    "    \"\"\"\n",
    "    try:\n",
    "        conn = sqlite3.connect(db_file)\n",
    "        return conn\n",
    "    except Error as e:\n",
    "        print(e)\n",
    " \n",
    "    return None"
   ]
  },
  {
   "cell_type": "code",
   "execution_count": 3,
   "metadata": {},
   "outputs": [],
   "source": [
    "def create_table(conn, create_table_sql):\n",
    "    \"\"\" create a table from the create_table_sql statement\n",
    "    :param conn: Connection object\n",
    "    :param create_table_sql: a CREATE TABLE statement\n",
    "    :return:\n",
    "    \"\"\"\n",
    "    try:\n",
    "        c = conn.cursor()\n",
    "        c.execute(create_table_sql)\n",
    "    except Error as e:\n",
    "        print(e)"
   ]
  },
  {
   "cell_type": "code",
   "execution_count": 409,
   "metadata": {},
   "outputs": [],
   "source": [
    "conn = create_connection('room8.db')"
   ]
  },
  {
   "cell_type": "code",
   "execution_count": 410,
   "metadata": {},
   "outputs": [],
   "source": [
    "sql_command = '''CREATE TABLE IF NOT EXISTS User (\n",
    "  id INT NOT NULL,\n",
    "  firstName VARCHAR(255),\n",
    "  lastName VARCHAR(255),\n",
    "  neighborhoodId INT,\n",
    "  PRIMARY KEY (id)\n",
    ");'''\n",
    "create_table(conn, sql_command)\n",
    "sql_command = '''CREATE TABLE IF NOT EXISTS Neighborhood(\n",
    "  id INT NOT NULL,\n",
    "  name VARCHAR(255), \n",
    "  metro VARCHAR(255),\n",
    "  PRIMARY KEY (id) \n",
    ");'''\n",
    "create_table(conn, sql_command)\n",
    "sql_command = '''CREATE TABLE IF NOT EXISTS User_Neighborhood(\n",
    "  id int(10) NOT NULL,\n",
    "  userID int(10) NOT NULL,\n",
    "  neighborhoodId int(10) NOT NULL, \n",
    "  PRIMARY KEY(id),\n",
    "  FOREIGN KEY (userID) REFERENCES User (id),\n",
    "  FOREIGN KEY (neighborhoodId) REFERENCES Neighborhood (id) \n",
    ");'''\n",
    "create_table(conn, sql_command)\n",
    "conn.commit()\n",
    "conn.close()"
   ]
  },
  {
   "cell_type": "markdown",
   "metadata": {},
   "source": [
    "### Scrape some neighborhood data from Wikipedia"
   ]
  },
  {
   "cell_type": "code",
   "execution_count": 411,
   "metadata": {},
   "outputs": [],
   "source": [
    "page = requests.get('https://en.wikipedia.org/wiki/List_of_neighborhoods_in_San_Francisco')\n",
    "tree = html.fromstring(page.content)"
   ]
  },
  {
   "cell_type": "code",
   "execution_count": 412,
   "metadata": {},
   "outputs": [],
   "source": [
    "neighborhoods = tree.xpath('/html/body/div[3]/div[3]/div[4]/div/div[2]/div/ul')"
   ]
  },
  {
   "cell_type": "code",
   "execution_count": 413,
   "metadata": {},
   "outputs": [],
   "source": [
    "neighborhoodArray = neighborhoods[0].text_content().split('\\n')"
   ]
  },
  {
   "cell_type": "code",
   "execution_count": 414,
   "metadata": {},
   "outputs": [],
   "source": [
    "SF = [neighborhood + ['San Francisco'] for neighborhood in [[i.split(' ',1)[1]] for i in neighborhoodArray if len(i) > 0][:-4]]"
   ]
  },
  {
   "cell_type": "code",
   "execution_count": 415,
   "metadata": {},
   "outputs": [],
   "source": [
    "page = requests.get('https://en.wikipedia.org/wiki/List_of_neighborhoods_in_Oakland,_California')\n",
    "tree = html.fromstring(page.content)"
   ]
  },
  {
   "cell_type": "code",
   "execution_count": 416,
   "metadata": {},
   "outputs": [],
   "source": [
    "neighborhoods = tree.xpath('/html/body/div[3]/div[3]/div[4]/div/ul/li')"
   ]
  },
  {
   "cell_type": "code",
   "execution_count": 417,
   "metadata": {},
   "outputs": [],
   "source": [
    "Oakland = [neighborhood + ['Oakland'] for neighborhood in [i.text_content().split(',') for i in neighborhoods] if neighborhood[0] != '']"
   ]
  },
  {
   "cell_type": "code",
   "execution_count": 418,
   "metadata": {},
   "outputs": [],
   "source": [
    "neighborhoodList = SF + Oakland\n",
    "neighborhoodList = [[str(i+1)] + neighborhoodList[i] for i in range(0,len(neighborhoodList))]"
   ]
  },
  {
   "cell_type": "markdown",
   "metadata": {},
   "source": [
    "### Functions to convert to string for sqlfiddle to take in.\n",
    "Due to storage constraints on SQLfiddle only use a random sample of the neighborhoods and small sample for users."
   ]
  },
  {
   "cell_type": "code",
   "execution_count": 419,
   "metadata": {},
   "outputs": [],
   "source": [
    "def convertDataListToString(TableType, Data):\n",
    "    if TableType == 'Neighborhood':\n",
    "        stringVec = [\"({id}, '{name}', '{metro}')\".format(id=row[0], name=row[1], metro=row[2]) for row in Data]\n",
    "    elif TableType == 'User':\n",
    "        stringVec = [\"({id}, '{firstName}','{lastName}', {neighborhoodId})\".format(id=row[0], firstName=row[1], lastName=row[2], neighborhoodId=row[3]) for row in Data]\n",
    "    else:\n",
    "        stringVec = [\"({id}, {userId}, {neighborhoodId})\".format(id=row[0], userId=row[1], neighborhoodId=row[2]) for row in Data]\n",
    "    return(stringVec)\n",
    "\n",
    "def generateRandomDataForSQLFiddle(TableType, TableSize, Data):\n",
    "    randomData = np.random.choice(convertDataListToString(TableType, Data),\n",
    "                 size = TableSize, replace = False, p = None)\n",
    "    if TableType == 'Neighborhood':\n",
    "        sqlCommand = \"INSERT INTO Neighborhood (id, name, metro) VALUES\" + ','.join(randomData) + ';'\n",
    "        return(sqlCommand)\n",
    "    elif TableType == 'User':\n",
    "        sqlCommand1 = \"INSERT INTO User (id, firstName, lastName, neighborhoodId) VALUES\" + ','.join(randomData) + ';'\n",
    "        tmp = [re.sub('[(),]','',i).split(' ') for i in randomData ]\n",
    "        UserNeighborhoodData = [[i+1, tmp[i][0], tmp[i][-1]]for i in range(0, len(tmp))]\n",
    "        sqlCommand2 = \"INSERT INTO User_Neighborhood (id, userId,neighborhoodId) VALUES\" + ','.join(convertDataListToString('UserNeighborhood',  UserNeighborhoodData))\n",
    "        return(sqlCommand1, sqlCommand2)        "
   ]
  },
  {
   "cell_type": "code",
   "execution_count": 420,
   "metadata": {},
   "outputs": [],
   "source": [
    "tmp = generateRandomDataForSQLFiddle('Neighborhood',40, neighborhoodList)"
   ]
  },
  {
   "cell_type": "code",
   "execution_count": 421,
   "metadata": {},
   "outputs": [
    {
     "data": {
      "text/plain": [
       "\"INSERT INTO Neighborhood (id, name, metro) VALUES(1, 'Alamo Square', 'San Francisco'),(194, 'Merriwood', 'Oakland'),(73, 'Mission Terrace', 'San Francisco'),(78, 'North Beach', 'San Francisco'),(102, 'South of Market', 'San Francisco'),(137, 'Maxwell Park', 'Oakland'),(166, 'Lake Merritt (the body of water)', 'Oakland'),(103, 'South Park', 'San Francisco'),(70, 'Mission Bay', 'San Francisco'),(150, 'Meadow Brook', 'Oakland'),(24, 'Diamond Heights', 'San Francisco'),(34, 'Fisherman's Wharf', 'San Francisco'),(10, 'Buena Vista', 'San Francisco'),(192, 'Hiller Highlands', 'Oakland'),(202, 'Lake Temescal', 'Oakland'),(145, 'Reservoir Hill', 'Oakland'),(68, 'Mid-Market', 'San Francisco'),(132, 'Laurel', 'Oakland'),(49, 'Japantown', 'San Francisco'),(193, 'Glen Highlands', 'Oakland'),(71, 'Mission District', 'San Francisco'),(51, 'Laguna Honda', 'San Francisco'),(197, 'Forestland', 'Oakland'),(11, 'Butchertown (Old and New)', 'San Francisco'),(54, 'Lakeshore', 'San Francisco'),(79, 'North of Panhandle', 'San Francisco'),(146, 'Cleveland Heights', 'Oakland'),(28, 'Embarcadero', 'San Francisco'),(134, 'Peralta Hacienda', 'Oakland'),(121, 'Chinatown', 'Oakland'),(93, 'Richmond District', 'San Francisco'),(215, 'Skyline-Hillcrest Estates', 'Oakland'),(114, 'Visitacion Valley', 'San Francisco'),(92, 'Presidio Heights', 'San Francisco'),(143, 'Lynn', 'Oakland'),(117, 'Western Addition', 'San Francisco'),(98, 'Sherwood Forest', 'San Francisco'),(151, 'Ivy Hill', 'Oakland'),(30, 'Excelsior', 'San Francisco'),(42, 'India Basin', 'San Francisco');\""
      ]
     },
     "execution_count": 421,
     "metadata": {},
     "output_type": "execute_result"
    }
   ],
   "source": [
    "tmp"
   ]
  },
  {
   "cell_type": "code",
   "execution_count": 422,
   "metadata": {},
   "outputs": [],
   "source": [
    "tmp1 = re.sub(\"(INSERT INTO Neighborhood \\(id, name, metro\\) VALUES)\",\"\", tmp)\n",
    "neighborhoodIds = re.sub(\"[A-z\\-\\,\\'\\'\\(\\)\\/;]\", '',tmp1).split()"
   ]
  },
  {
   "cell_type": "code",
   "execution_count": 423,
   "metadata": {},
   "outputs": [],
   "source": [
    "conn = create_connection('room8.db')\n",
    "c = conn.cursor()\n",
    "c.executemany('''INSERT OR IGNORE INTO Neighborhood (id, name, metro) VALUES(?,?,?)''', neighborhoodList)\n",
    "conn.commit()"
   ]
  },
  {
   "cell_type": "markdown",
   "metadata": {},
   "source": [
    "### Make fake user data"
   ]
  },
  {
   "cell_type": "code",
   "execution_count": 424,
   "metadata": {},
   "outputs": [],
   "source": [
    "import names;"
   ]
  },
  {
   "cell_type": "code",
   "execution_count": 425,
   "metadata": {},
   "outputs": [],
   "source": [
    "def generateFakeUserName():\n",
    "    return([names.get_first_name(), names.get_last_name()])\n",
    "def generateFakeUser(numUsers, neighborhoodData):\n",
    "    locationData = np.random.choice(neighborhoodData, size = numUsers+1, replace = True, p = None)\n",
    "    userTable = [[i+1] + generateFakeUserName() + [locationData[i]] for i in range(0,numUsers)]\n",
    "    return(userTable)"
   ]
  },
  {
   "cell_type": "code",
   "execution_count": 426,
   "metadata": {},
   "outputs": [],
   "source": [
    "userList = generateFakeUser(100, neighborhoodIds)"
   ]
  },
  {
   "cell_type": "code",
   "execution_count": 427,
   "metadata": {},
   "outputs": [],
   "source": [
    "c.executemany('''INSERT OR IGNORE INTO User (id, firstName, lastName, neighborhoodId) VALUES(?,?,?,?)''', userList)\n",
    "conn.commit()"
   ]
  },
  {
   "cell_type": "code",
   "execution_count": 428,
   "metadata": {},
   "outputs": [],
   "source": [
    "[a,b] = generateRandomDataForSQLFiddle('User',25, userList)"
   ]
  },
  {
   "cell_type": "code",
   "execution_count": 429,
   "metadata": {},
   "outputs": [
    {
     "data": {
      "text/plain": [
       "\"INSERT INTO User (id, firstName, lastName, neighborhoodId) VALUES(84, 'John','Obryan', 146),(51, 'Cheryl','Larson', 92),(99, 'Cameron','Borders', 54),(38, 'Chad','Carroll', 197),(97, 'Elizabeth','Brown', 143),(98, 'Susan','Hoey', 151),(12, 'Elizabeth','Winebarger', 54),(45, 'Lillian','Brown', 30),(3, 'Ashley','Illsley', 92),(87, 'Kevin','Maxfield', 10),(75, 'Ashley','Ackley', 93),(27, 'Ryan','Hites', 215),(23, 'Ora','Vang', 146),(8, 'Joanne','Hahn', 28),(20, 'Patricia','Wheeler', 103),(11, 'Cecila','Nelson', 166),(70, 'Bruce','Elliott', 103),(16, 'Wiley','Jones', 28),(59, 'Regina','Rogers', 73),(25, 'Esther','Veach', 34),(21, 'Gene','Sneed', 193),(5, 'Adeline','Cruce', 79),(33, 'Ken','Martin', 102),(95, 'Anthony','Garcia', 151),(30, 'Ruth','Kondo', 70);\""
      ]
     },
     "execution_count": 429,
     "metadata": {},
     "output_type": "execute_result"
    }
   ],
   "source": [
    "a"
   ]
  },
  {
   "cell_type": "code",
   "execution_count": 430,
   "metadata": {},
   "outputs": [
    {
     "data": {
      "text/plain": [
       "'INSERT INTO User_Neighborhood (id, userId,neighborhoodId) VALUES(1, 84, 146),(2, 51, 92),(3, 99, 54),(4, 38, 197),(5, 97, 143),(6, 98, 151),(7, 12, 54),(8, 45, 30),(9, 3, 92),(10, 87, 10),(11, 75, 93),(12, 27, 215),(13, 23, 146),(14, 8, 28),(15, 20, 103),(16, 11, 166),(17, 70, 103),(18, 16, 28),(19, 59, 73),(20, 25, 34),(21, 21, 193),(22, 5, 79),(23, 33, 102),(24, 95, 151),(25, 30, 70)'"
      ]
     },
     "execution_count": 430,
     "metadata": {},
     "output_type": "execute_result"
    }
   ],
   "source": [
    "b"
   ]
  },
  {
   "cell_type": "markdown",
   "metadata": {},
   "source": [
    "### Create UserNeighborhood using User Data"
   ]
  },
  {
   "cell_type": "code",
   "execution_count": 435,
   "metadata": {},
   "outputs": [],
   "source": [
    "UserNeighborhoodList = [[i + 1, userList[i][0], userList[i][-1]] for i in range(0, len(userList))]"
   ]
  },
  {
   "cell_type": "code",
   "execution_count": 438,
   "metadata": {},
   "outputs": [
    {
     "data": {
      "text/plain": [
       "<sqlite3.Cursor at 0x7f6e5088ad50>"
      ]
     },
     "execution_count": 438,
     "metadata": {},
     "output_type": "execute_result"
    }
   ],
   "source": [
    "c.executemany('''INSERT OR IGNORE INTO User_Neighborhood (id, userId, neighborhoodId) VALUES(?,?,?)''', UserNeighborhoodList)"
   ]
  },
  {
   "cell_type": "code",
   "execution_count": 439,
   "metadata": {},
   "outputs": [],
   "source": [
    "conn.close()"
   ]
  },
  {
   "cell_type": "markdown",
   "metadata": {},
   "source": [
    "### Exploration with the Database"
   ]
  },
  {
   "cell_type": "code",
   "execution_count": 4,
   "metadata": {},
   "outputs": [],
   "source": [
    "conn = create_connection('room8.db')\n",
    "c = conn.cursor()"
   ]
  },
  {
   "cell_type": "code",
   "execution_count": 5,
   "metadata": {},
   "outputs": [
    {
     "data": {
      "text/plain": [
       "<sqlite3.Cursor at 0x7f1207218810>"
      ]
     },
     "execution_count": 5,
     "metadata": {},
     "output_type": "execute_result"
    }
   ],
   "source": [
    "# Examine how many users are in each neighborhood\n",
    "c.execute('''SELECT COUNT(id), name, metro FROM User LEFT JOIN \n",
    "(SELECT id neighborhoodId, name, metro FROM Neighborhood) Neighborhood USING(neighborhoodId) GROUP BY(neighborhoodId) \n",
    "ORDER BY COUNT(id) DESC''')"
   ]
  },
  {
   "cell_type": "code",
   "execution_count": 6,
   "metadata": {},
   "outputs": [],
   "source": [
    "result = c.fetchall()"
   ]
  },
  {
   "cell_type": "code",
   "execution_count": 7,
   "metadata": {},
   "outputs": [],
   "source": [
    "result = pd.DataFrame(result, columns=['Count','Neighborhood','Metro'])"
   ]
  },
  {
   "cell_type": "code",
   "execution_count": 69,
   "metadata": {},
   "outputs": [
    {
     "data": {
      "text/plain": [
       "Text(0.5,1,'User Count By Metro Sorted Descending')"
      ]
     },
     "execution_count": 69,
     "metadata": {},
     "output_type": "execute_result"
    },
    {
     "data": {
      "image/png": "[encoded data removed]",
      "text/plain": [
       "<Figure size 537.375x432 with 1 Axes>"
      ]
     },
     "metadata": {},
     "output_type": "display_data"
    }
   ],
   "source": [
    "import seaborn as sns\n",
    "sns.set(style=\"whitegrid\")\n",
    "\n",
    "# Draw a nested barplot to show survival for class and sex\n",
    "g = sns.factorplot(x=\"Neighborhood\", y=\"Count\", hue=\"Metro\", data=result,\n",
    "                   size=6, kind=\"bar\", palette=\"muted\")\n",
    "g.set_xticklabels(rotation=90)\n",
    "g.despine(left=True)\n",
    "g.set_ylabels(\"User Count\")\n",
    "plt.title('User Count By Metro Sorted Descending')"
   ]
  },
  {
   "cell_type": "code",
   "execution_count": 11,
   "metadata": {},
   "outputs": [
    {
     "data": {
      "text/plain": [
       "0      1.0\n",
       "1      2.5\n",
       "2      2.5\n",
       "3      1.5\n",
       "4      1.5\n",
       "5      6.0\n",
       "6      6.0\n",
       "7      6.0\n",
       "8      6.0\n",
       "9      6.0\n",
       "10     3.5\n",
       "11     3.5\n",
       "12    10.5\n",
       "13    10.5\n",
       "14    10.5\n",
       "15    10.5\n",
       "16     6.0\n",
       "17     6.0\n",
       "18     6.0\n",
       "19    15.0\n",
       "20    15.0\n",
       "21    15.0\n",
       "22    15.0\n",
       "23    15.0\n",
       "24     8.5\n",
       "25     8.5\n",
       "26    19.5\n",
       "27    19.5\n",
       "28    19.5\n",
       "29    19.5\n",
       "30    12.5\n",
       "31    12.5\n",
       "32    12.5\n",
       "33    12.5\n",
       "34    12.5\n",
       "35    12.5\n",
       "Name: Count, dtype: float64"
      ]
     },
     "execution_count": 11,
     "metadata": {},
     "output_type": "execute_result"
    }
   ],
   "source": [
    "result['Ranks'] = result.groupby('Metro')['Count'].rank(ascending=False)"
   ]
  },
  {
   "cell_type": "code",
   "execution_count": null,
   "metadata": {},
   "outputs": [],
   "source": []
  }
 ],
 "metadata": {
  "kernelspec": {
   "display_name": "Python 3",
   "language": "python",
   "name": "python3"
  },
  "language_info": {
   "codemirror_mode": {
    "name": "ipython",
    "version": 3
   },
   "file_extension": ".py",
   "mimetype": "text/x-python",
   "name": "python",
   "nbconvert_exporter": "python",
   "pygments_lexer": "ipython3",
   "version": "3.5.2"
  }
 },
 "nbformat": 4,
 "nbformat_minor": 2
}
